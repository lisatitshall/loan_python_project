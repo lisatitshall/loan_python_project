{
 "cells": [
  {
   "cell_type": "markdown",
   "metadata": {},
   "source": [
    "# Python Data Science & Analysis \n",
    "### Project: Credit Risk Assessment "
   ]
  },
  {
   "cell_type": "markdown",
   "metadata": {},
   "source": [
    "# Abstract"
   ]
  },
  {
   "cell_type": "markdown",
   "metadata": {},
   "source": [
    "You are hired as part of a data science team at a fintech start up. The start up has offered loans of $£1,000$ to $1000$ customers in various groups of interest in order to collect data on their likelihood of repayment.  \n",
    "\n",
    "Your role is to offer an account or predictive model of what factors lead to loan default and thereby advise the new company on its loan strategy. \n",
    "\n",
    "The company has collected the following data:\n",
    "\n",
    "```\n",
    " \"ID\",         Customer ID\n",
    " \"Income\",     Annual Pre-Tax Income on-application\n",
    " \"Term\" ,      Short or Long Term (6mo or 12mo)\n",
    " \"Balance\",    Current Account Balance on-application\n",
    " \"Debt\" ,      Outstanding Debt on-application\n",
    " \"Score\",      Credit Score (from referencing agency)\n",
    " \"Default\"     Observed Default (True = Default, False = Settle)\n",
    "```"
   ]
  },
  {
   "cell_type": "markdown",
   "metadata": {},
   "source": [
    "# Part 1: Rules"
   ]
  },
  {
   "cell_type": "markdown",
   "metadata": {},
   "source": [
    "Your first project is to consider the application of a single customer and prototype rules which could predict whether they defaulted or not. \n",
    "\n",
    "```python\n",
    "\n",
    "customer = (690, 14300., 'Short Term', 1190., 87., 63., False)\n",
    "\n",
    "```"
   ]
  },
  {
   "cell_type": "markdown",
   "metadata": {},
   "source": [
    "### Q. Define a variable `columns` to hold the column names"
   ]
  },
  {
   "cell_type": "markdown",
   "metadata": {},
   "source": [
    "Goal: your code should contain a variable which lists the names of the columns in text. "
   ]
  },
  {
   "cell_type": "code",
   "execution_count": 1,
   "metadata": {},
   "outputs": [
    {
     "name": "stdout",
     "output_type": "stream",
     "text": [
      "['ID', 'Income', 'Term', 'Balance', 'Debt', 'Score', 'Default']\n"
     ]
    }
   ],
   "source": [
    "columns = [\"ID\", \"Income\", \"Term\", \"Balance\", \"Debt\", \"Score\", \"Default\"]\n",
    "print(columns)"
   ]
  },
  {
   "cell_type": "markdown",
   "metadata": {},
   "source": [
    "### Q. Define `customer` as above"
   ]
  },
  {
   "cell_type": "markdown",
   "metadata": {},
   "source": [
    "Goal: include the customer variable defined above. "
   ]
  },
  {
   "cell_type": "code",
   "execution_count": 2,
   "metadata": {},
   "outputs": [
    {
     "name": "stdout",
     "output_type": "stream",
     "text": [
      "(690, 14300.0, 'Short Term', 1190.0, 87.0, 63.0, False)\n"
     ]
    }
   ],
   "source": [
    "customer = (690, 14300., \"Short Term\", 1190., 87., 63., False)\n",
    "print(customer)"
   ]
  },
  {
   "cell_type": "markdown",
   "metadata": {},
   "source": [
    "### Q. Print the customer details out (the field name and value)"
   ]
  },
  {
   "cell_type": "markdown",
   "metadata": {},
   "source": [
    "Goal: your code should `print()` details of the customer's loan. "
   ]
  },
  {
   "cell_type": "markdown",
   "metadata": {},
   "source": [
    "```\n",
    "SAMPLE OUTPUT:\n",
    "\n",
    "ID 690\n",
    "Income 14300.0\n",
    "Term Short Term\n",
    "Balance 1190.0\n",
    "Debt 87.0\n",
    "Score 63.0\n",
    "Default False\n",
    "```"
   ]
  },
  {
   "cell_type": "code",
   "execution_count": 3,
   "metadata": {},
   "outputs": [
    {
     "name": "stdout",
     "output_type": "stream",
     "text": [
      "ID\t690\n",
      "Income\t14300.0\n",
      "Term\tShort Term\n",
      "Balance\t1190.0\n",
      "Debt\t87.0\n",
      "Score\t63.0\n",
      "Default\tFalse\n"
     ]
    }
   ],
   "source": [
    "i = 0\n",
    "while i < len(columns):\n",
    "    print(columns[i] + \"\\t\" + str(customer[i]))\n",
    "    i+=1"
   ]
  },
  {
   "cell_type": "markdown",
   "metadata": {},
   "source": [
    "### Q. Print a prediction and observation\n",
    "\n",
    "1. Goal: print the observed default \n",
    "---\n",
    "2. Goal: compute and print a prediction\n",
    "    * eg., include an `if` that the customer score is $< 200$\n",
    "        * print `True` for the prediction\n",
    "        * otherwise, `False`\n",
    "    \n",
    "    "
   ]
  },
  {
   "cell_type": "markdown",
   "metadata": {},
   "source": [
    "```\n",
    "SAMPLE OUTPUT:\n",
    "\n",
    "observation: False\n",
    "prediction: True\n",
    "```"
   ]
  },
  {
   "cell_type": "code",
   "execution_count": 4,
   "metadata": {},
   "outputs": [
    {
     "name": "stdout",
     "output_type": "stream",
     "text": [
      "observation: False\n",
      "prediction: True\n"
     ]
    }
   ],
   "source": [
    "print(f\"observation: {customer[-1]}\")\n",
    "\n",
    "print(f\"prediction: {customer[-2] < 200}\")"
   ]
  },
  {
   "cell_type": "markdown",
   "metadata": {},
   "source": [
    "### Q. Improve the prototype rule: consider income\n",
    "\n",
    "* Goal: Include a condition on the customer income"
   ]
  },
  {
   "cell_type": "markdown",
   "metadata": {},
   "source": [
    "```\n",
    "SAMPLE OUTPUT:\n",
    "\n",
    "observation: False\n",
    "prediction: True\n",
    "```"
   ]
  },
  {
   "cell_type": "code",
   "execution_count": 5,
   "metadata": {},
   "outputs": [
    {
     "name": "stdout",
     "output_type": "stream",
     "text": [
      "observation: False\n",
      "prediction: True\n"
     ]
    }
   ],
   "source": [
    "print(f\"observation: {customer[-1]}\")\n",
    "\n",
    "print(f\"prediction: {customer[1] < 25000 or customer[-2] < 200}\")"
   ]
  },
  {
   "cell_type": "markdown",
   "metadata": {},
   "source": [
    "### Q. Improve the prototype rule: consider term\n",
    "\n",
    "* Goal: Include a condition on the customer term"
   ]
  },
  {
   "cell_type": "markdown",
   "metadata": {},
   "source": [
    "```\n",
    "SAMPLE OUTPUT:\n",
    "\n",
    "observation: False\n",
    "prediction: True\n",
    "```"
   ]
  },
  {
   "cell_type": "code",
   "execution_count": 6,
   "metadata": {},
   "outputs": [
    {
     "name": "stdout",
     "output_type": "stream",
     "text": [
      "observation: False\n",
      "prediction: True\n"
     ]
    }
   ],
   "source": [
    "print(f\"observation: {customer[-1]}\")\n",
    "\n",
    "print(f\"prediction: {customer[1] < 25000 or 'Long' in customer[2]}\")"
   ]
  },
  {
   "cell_type": "markdown",
   "metadata": {},
   "source": [
    "# Part 2: Datasets"
   ]
  },
  {
   "cell_type": "markdown",
   "metadata": {},
   "source": [
    "The company now provides a partial dataset. \n",
    "\n",
    "Your task is to apply your rules above and estimate your prediction error using them. "
   ]
  },
  {
   "cell_type": "code",
   "execution_count": 7,
   "metadata": {},
   "outputs": [],
   "source": [
    "loans = [(690, 14300., \"Short Term\", 1190., 87., 63., False), \n",
    "               (75, 30000., \"Short Term\", 5000., 0., 250., False),\n",
    "               (167, 25000., \"Long Term\", 2439., 200., 102., True),\n",
    "               (279, 19000., \"Long Term\", 500., 1000., 200., True),\n",
    "               (397, 40000., \"Short Term\", 2000., 0., None, False),\n",
    "               (827, 23050., \"Long Term\", 100., 1500., 270., True)\n",
    "              ]"
   ]
  },
  {
   "cell_type": "markdown",
   "metadata": {},
   "source": [
    "### Q. Print out customer details\n",
    "\n",
    "Goal: your code should `print()` all loan details. "
   ]
  },
  {
   "cell_type": "markdown",
   "metadata": {},
   "source": [
    "```\n",
    "SAMPLE OUTPUT:\n",
    "\n",
    "ID: 215  \t Income: 37900.0\n",
    "ID: 442  \t Income: 78700.0\n",
    "ID: 22  \t Income: 41900.0\n",
    "ID: 711  \t Income: 24600.0\n",
    "ID: 113  \t Income: 33900.0\n",
    "ID: 91  \t Income: 23200.0\n",
    "ID: 268  \t Income: 17700.0\n",
    "ID: 735  \t Income: 37100.0\n",
    "ID: 971  \t Income: 35300.0\n",
    "ID: 858  \t Income: 16700.0\n",
    "```"
   ]
  },
  {
   "cell_type": "code",
   "execution_count": 8,
   "metadata": {},
   "outputs": [
    {
     "name": "stdout",
     "output_type": "stream",
     "text": [
      "ID: 690  \t  Income: 14300.0\n",
      "ID: 75  \t  Income: 30000.0\n",
      "ID: 167  \t  Income: 25000.0\n",
      "ID: 279  \t  Income: 19000.0\n",
      "ID: 397  \t  Income: 40000.0\n",
      "ID: 827  \t  Income: 23050.0\n"
     ]
    }
   ],
   "source": [
    "for cid, income, term, balance, debt, score, default in loans:\n",
    "    print(f\"ID: {cid}  \\t  Income: {income}\")"
   ]
  },
  {
   "cell_type": "markdown",
   "metadata": {},
   "source": [
    "### Q. Print the score\n",
    "\n",
    "Goal: print their score if it exists. "
   ]
  },
  {
   "cell_type": "markdown",
   "metadata": {},
   "source": [
    "```\n",
    "SAMPLE OUTPUT:\n",
    "\n",
    "Income: 37900\tID: 215  \t Score: 595\n",
    "Income: 78700\tID: 442  \t Score: 1000\n",
    "Income: 41900\tID: 22  \t Score: 372\n",
    "Income: 24600\tID: 711  \t Score: 385\n",
    "Income: 33900\tID: 113  \t Score: 456\n",
    "Income: 23200\tID: 91  \t Score: 264\n",
    "Income: 17700\tID: 268  \t Score: 289\n",
    "Income: 37100\tID: 735  \t Score: 661\n",
    "Income: 16700\tID: 858  \t Score: 201\n",
    "```"
   ]
  },
  {
   "cell_type": "code",
   "execution_count": 9,
   "metadata": {},
   "outputs": [
    {
     "name": "stdout",
     "output_type": "stream",
     "text": [
      "Income: 14300 \t ID: 690 \t Score: 63\n",
      "Income: 30000 \t ID: 75 \t Score: 250\n",
      "Income: 25000 \t ID: 167 \t Score: 102\n",
      "Income: 19000 \t ID: 279 \t Score: 200\n",
      "Income: 23050 \t ID: 827 \t Score: 270\n"
     ]
    }
   ],
   "source": [
    "for cid, income, term, balance, debt, score, default in loans:\n",
    "    if(score == None):\n",
    "        continue\n",
    "    else:\n",
    "        print(f\"Income: {income:.0f} \\t ID: {cid} \\t Score: {score:.0f}\")"
   ]
  },
  {
   "cell_type": "markdown",
   "metadata": {},
   "source": [
    "### Q. Include predictions\n",
    "\n",
    "* Goal: Compute a prediction using a rule above\n",
    "---\n",
    "* Goal: print all predictions.\n",
    "---\n",
    "* `print()` whether the prediction matches the observation"
   ]
  },
  {
   "cell_type": "markdown",
   "metadata": {},
   "source": [
    "```\n",
    "SAMPLE OUTPUT:\n",
    "\n",
    "Income: 37900\t\tScore: 595\tError: True\n",
    "Income: 78700\t\tScore: 1000\tError: True\n",
    "Income: 41900\t\tScore: 372\tError: True\n",
    "Income: 24600\t\tScore: 385\tError: True\n",
    "Income: 33900\t\tScore: 456\tError: True\n",
    "Income: 23200\t\tScore: 264\tError: True\n",
    "Income: 17700\t\tScore: 289\tError: False\n",
    "Income: 37100\t\tScore: 661\tError: True\n",
    "Income: 16700\t\tScore: 201\tError: False\n",
    "```"
   ]
  },
  {
   "cell_type": "code",
   "execution_count": 10,
   "metadata": {},
   "outputs": [
    {
     "name": "stdout",
     "output_type": "stream",
     "text": [
      "Income: 14300 \t Score: 63 \t Default: False  \t Prediction: True \t Error: False\n",
      "Income: 30000 \t Score: 250 \t Default: False  \t Prediction: False \t Error: True\n",
      "Income: 25000 \t Score: 102 \t Default: True  \t Prediction: True \t Error: True\n",
      "Income: 19000 \t Score: 200 \t Default: True  \t Prediction: False \t Error: False\n",
      "Income: 23050 \t Score: 270 \t Default: True  \t Prediction: False \t Error: False\n"
     ]
    }
   ],
   "source": [
    " for cid, income, term, balance, debt, score, default in loans:\n",
    "    if(score == None):\n",
    "        continue\n",
    "    else:\n",
    "        prediction = (score < 200)\n",
    "        print(f\"Income: {int(income)} \\t Score: {int(score)} \\t Default: {default}  \\t Prediction: {prediction} \\t Error: {prediction == default}\")"
   ]
  },
  {
   "cell_type": "markdown",
   "metadata": {},
   "source": [
    "### Q. Include an error\n",
    "\n",
    "Goal: Start a running error total from `0` before the loop.\n",
    "\n",
    "---\n",
    "Goal: Modify the loop so that you increase error by one.\n"
   ]
  },
  {
   "cell_type": "markdown",
   "metadata": {},
   "source": [
    "```\n",
    "SAMPLE OUTPUT:\n",
    "\n",
    "Income: 37900\t\tScore: 595\tError: True\n",
    "Income: 78700\t\tScore: 1000\tError: True\n",
    "Income: 41900\t\tScore: 372\tError: True\n",
    "Income: 24600\t\tScore: 385\tError: True\n",
    "Income: 33900\t\tScore: 456\tError: True\n",
    "Income: 23200\t\tScore: 264\tError: True\n",
    "Income: 17700\t\tScore: 289\tError: False\n",
    "Income: 37100\t\tScore: 661\tError: True\n",
    "Income: 16700\t\tScore: 201\tError: False\n",
    "\n",
    "Total Error: 2\n",
    "```"
   ]
  },
  {
   "cell_type": "code",
   "execution_count": 11,
   "metadata": {},
   "outputs": [
    {
     "name": "stdout",
     "output_type": "stream",
     "text": [
      "Income: 14300    Score: 63 \t Error: False\n",
      "Income: 30000    Score: 250 \t Error: True\n",
      "Income: 25000    Score: 102 \t Error: True\n",
      "Income: 19000    Score: 200 \t Error: False\n",
      "Income: 23050    Score: 270 \t Error: False\n",
      "\n",
      "Total Error: 3\n"
     ]
    }
   ],
   "source": [
    "error = 0\n",
    "for cid, income, term, balance, debt, score, default in loans:\n",
    "    if(score == None):\n",
    "        continue\n",
    "    else:\n",
    "        prediction = (score < 200)\n",
    "        print(f\"Income: {int(income)}    Score: {int(score)} \\t Error: {prediction == default}\")\n",
    "        if(prediction != default):\n",
    "            error += 1 \n",
    "            \n",
    "print()\n",
    "print(f\"Total Error: {error}\")"
   ]
  },
  {
   "cell_type": "markdown",
   "metadata": {},
   "source": [
    "### Q. Report an accuracy score\n",
    "\n",
    "Goal: `print()` an accuracy out of $100\\%$\n",
    "\n",
    "Compute the accuracy as $1 - \\frac{error}{N_{loans}}$.\n",
    "\n",
    "Compute a score out of $100\\%$. \n"
   ]
  },
  {
   "cell_type": "markdown",
   "metadata": {},
   "source": [
    "```\n",
    "SAMPLE OUTPUT:\n",
    "\n",
    "Score: 80 %\n",
    "```"
   ]
  },
  {
   "cell_type": "code",
   "execution_count": 12,
   "metadata": {},
   "outputs": [
    {
     "name": "stdout",
     "output_type": "stream",
     "text": [
      "Score: 50 %\n"
     ]
    }
   ],
   "source": [
    "n = len(loans)\n",
    "accuracy = 1 - (error/n)\n",
    "print(f\"Score: {int(accuracy*100)} %\")"
   ]
  }
 ],
 "metadata": {
  "kernelspec": {
   "display_name": "Python 3",
   "language": "python",
   "name": "python3"
  },
  "language_info": {
   "codemirror_mode": {
    "name": "ipython",
    "version": 3
   },
   "file_extension": ".py",
   "mimetype": "text/x-python",
   "name": "python",
   "nbconvert_exporter": "python",
   "pygments_lexer": "ipython3",
   "version": "3.8.8"
  }
 },
 "nbformat": 4,
 "nbformat_minor": 4
}
